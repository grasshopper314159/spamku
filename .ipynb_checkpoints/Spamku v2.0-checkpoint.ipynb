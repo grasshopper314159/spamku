{
 "cells": [
  {
   "cell_type": "markdown",
   "metadata": {},
   "source": [
    "# Spamku \n",
    "## May 4, 2020\n",
    "## Version 2.0.1"
   ]
  },
  {
   "cell_type": "markdown",
   "metadata": {},
   "source": [
    "### Import Libraries and Setup Variables\n",
    "\n",
    "Import nltk libraries\n",
    "\n",
    "Setup dictionaries for storing learning"
   ]
  },
  {
   "cell_type": "code",
   "execution_count": 87,
   "metadata": {},
   "outputs": [
    {
     "name": "stderr",
     "output_type": "stream",
     "text": [
      "[nltk_data] Downloading package punkt to /home/parallels/nltk_data...\n",
      "[nltk_data]   Package punkt is already up-to-date!\n",
      "[nltk_data] Downloading package averaged_perceptron_tagger to\n",
      "[nltk_data]     /home/parallels/nltk_data...\n",
      "[nltk_data]   Package averaged_perceptron_tagger is already up-to-\n",
      "[nltk_data]       date!\n",
      "[nltk_data] Downloading package cmudict to\n",
      "[nltk_data]     /home/parallels/nltk_data...\n",
      "[nltk_data]   Package cmudict is already up-to-date!\n"
     ]
    }
   ],
   "source": [
    "# https://www.nltk.org/\n",
    "import nltk;\n",
    "\n",
    "# http://www.nltk.org/book/ch05.html\n",
    "from nltk import pos_tag\n",
    "\n",
    "nltk.download('punkt')\n",
    "nltk.download('averaged_perceptron_tagger')\n",
    "nltk.download('cmudict')\n",
    "from nltk.corpus import cmudict\n",
    "\n",
    "# https://docs.python.org/3/library/os.html\n",
    "import os\n",
    "\n",
    "# https://docs.python.org/3/library/pickle.html\n",
    "import pickle\n",
    "\n",
    "# https://docs.python.org/3/library/collections.html\n",
    "from collections import defaultdict\n",
    "\n",
    "\n",
    "pos_dict=defaultdict(list)\n",
    "# declare custom dictionary for determining part of speech\n",
    "pronunciation_dict = cmudict.dict()\n",
    "\n",
    "# https://docs.python.org/3/library/random.html\n",
    "import random\n",
    "\n",
    "\n",
    "import string\n",
    "\n"
   ]
  },
  {
   "cell_type": "markdown",
   "metadata": {},
   "source": [
    "### Read in Corpus of Sample Spam as a text file and also make a list of haiku, so each item in the list is a complete three line haiku\n",
    "\n",
    "This file contains 8893 spam-ku\n"
   ]
  },
  {
   "cell_type": "code",
   "execution_count": 5,
   "metadata": {},
   "outputs": [],
   "source": [
    "# the name of the corpus is text. It is just one long string, no newlines\n",
    "filename=\"corpus/spamku.txt\"\n",
    "file = open(filename, mode = 'r')\n",
    "text = \"\"\n",
    "for line in file:\n",
    "    text += line.strip()+' '\n",
    "file.close()\n",
    "\n",
    "# haiku_list is the name of our list which holds the haiku in their original form\n",
    "haiku_list=[]\n",
    "file = open(filename, mode = 'r')\n",
    "for line in file:\n",
    "    c+=1\n",
    "    l.append(line)\n",
    "    if c==3:\n",
    "        haiku_list.append(l)\n",
    "        c=0\n",
    "        l=[]\n",
    "file.close()"
   ]
  },
  {
   "cell_type": "markdown",
   "metadata": {
    "code_folding": []
   },
   "source": [
    "### Read in pickle files \n",
    "\n",
    "pos_patterns is a dictionary with parts of speech patterns as keys, and how often that pattern occured in the corpus as values.  Each patterns is from one line of a haiku\n",
    "For example: 'JJ NN NN' : 140  \n",
    "  \n",
    "pos_dict is a dictionary with indivdual parts of speech as keys, and the value is a list of all words from our spamku corpus that match that part of speech  \n",
    "  \n",
    "These dictionaries take a while to generate on my i5-3320M computer, so I pickled them.  See the end of the notebook to see how I generated them (those cells will consist of commented out code)\n",
    "\n"
   ]
  },
  {
   "cell_type": "code",
   "execution_count": null,
   "metadata": {},
   "outputs": [],
   "source": [
    "def loadData(filename): \n",
    "    file = open(filename, 'rb')      \n",
    "    data = pickle.load(file) \n",
    "    file.close()\n",
    "    return data\n",
    "\n",
    "pos_patterns = loadData(\"pos_patterns.p\")\n",
    "pos_dict = loadData(\"pos_dict.p\")"
   ]
  },
  {
   "cell_type": "markdown",
   "metadata": {},
   "source": [
    "### Perform Markov Chain Analysis on Sample Poems\n",
    "\n",
    "Determining the most likely word to follow each word in sample"
   ]
  },
  {
   "cell_type": "code",
   "execution_count": 108,
   "metadata": {
    "scrolled": false
   },
   "outputs": [
    {
     "name": "stdout",
     "output_type": "stream",
     "text": [
      "[]\n"
     ]
    }
   ],
   "source": [
    "def markov_chain(text):\n",
    "    '''The input is a string of text and the output will be a dictionary with each word as\n",
    "       a key and each value as the list of words that come after the key in the text.'''\n",
    "    \n",
    "    # Tokenize the text by word, though including punctuation\n",
    "    words = text.split(' ')\n",
    "    \n",
    "    # Initialize a default dictionary to hold all of the words and next words\n",
    "    m_dict = defaultdict(list)\n",
    "    \n",
    "    # Create a zipped list of all of the word pairs and put them in word: list of next words format\n",
    "    for current_word, next_word in zip(words[0:-1], words[1:]):\n",
    "        m_dict[current_word].append(next_word)\n",
    "\n",
    "    # Convert the default dict back into a dictionary\n",
    "    m_dict = dict(m_dict)\n",
    "    return m_dict\n",
    "\n",
    "mc=markov_chain(text)\n",
    "\n",
    "def hormel_chain(text):\n",
    "    '''The input is a string of text and the output will be a dictionary with each word as\n",
    "       a key and each value as the list of words that come after the key in the text.'''\n",
    "    \n",
    "    # Tokenize the text by word, though including punctuation\n",
    "    words = text.split(' ')\n",
    "    \n",
    "    # Initialize a default dictionary to hold all of the words and next words\n",
    "    m_dict = [] #defaultdict(list)\n",
    "    invalid = 0\n",
    "    \n",
    "    # Create a zipped list of all of the word pairs and put them in word: list of next words format\n",
    "    for current_word, next_word in zip(words[0:-1], words[1:]):\n",
    "        try:\n",
    "            # print(current_word)\n",
    "            current_word = current_word.lower().translate(str.maketrans('','',string.punctuation))\n",
    "            count = get_syllable_count(current_word)\n",
    "            pos = get_pos_label([current_word])\n",
    "            m_dict[count][pos].append(next_word)\n",
    "        except:\n",
    "            invalid += 1\n",
    "    # Convert the default dict back into a dictionary\n",
    "    # m_dict = dict(m_dict)\n",
    "    return m_dict\n",
    "\n",
    "hc=hormel_chain(text)\n",
    "\n",
    "print(hc)"
   ]
  },
  {
   "cell_type": "markdown",
   "metadata": {},
   "source": [
    "### Define functions to count syllables for each word\n",
    "\n",
    "Testing with 3 words"
   ]
  },
  {
   "cell_type": "code",
   "execution_count": 78,
   "metadata": {},
   "outputs": [
    {
     "name": "stdout",
     "output_type": "stream",
     "text": [
      "3\n",
      "2\n",
      "1\n"
     ]
    }
   ],
   "source": [
    "def get_syllable_count(word):\n",
    "    # print(pronunciation_dict[word])\n",
    "    syl=[ x for x in pronunciation_dict[word][0] if x[-1].isdigit()]\n",
    "    return len(syl)\n",
    "\n",
    "print(get_syllable_count('pastrami'))\n",
    "print(get_syllable_count('sausage'))\n",
    "print(get_syllable_count('ribs'))\n"
   ]
  },
  {
   "cell_type": "markdown",
   "metadata": {},
   "source": [
    "### Define function to return part of speech for each word\n",
    "\n",
    "Testing with 3 words"
   ]
  },
  {
   "cell_type": "code",
   "execution_count": 28,
   "metadata": {},
   "outputs": [
    {
     "name": "stdout",
     "output_type": "stream",
     "text": [
      "NN\n",
      "NN\n",
      "NN\n"
     ]
    }
   ],
   "source": [
    "def get_pos_label(word):\n",
    "    return pos_tag(word)[0][1]\n",
    "\n",
    "print(get_pos_label(['capicola']))\n",
    "print(get_pos_label(['pastrami']))\n",
    "print(get_pos_label(['andouille']))\n"
   ]
  },
  {
   "cell_type": "markdown",
   "metadata": {},
   "source": [
    "### Process each line of sample\n",
    "\n",
    "Determine the arrangement of syllables\n",
    "\n",
    "Determine the parts of speech of each word"
   ]
  },
  {
   "cell_type": "code",
   "execution_count": null,
   "metadata": {},
   "outputs": [],
   "source": []
  },
  {
   "cell_type": "markdown",
   "metadata": {},
   "source": [
    "### Pick a pattern for each line\n",
    "\n",
    "Choose a syllable sequence for the 1st, 2nd and 3rd line"
   ]
  },
  {
   "cell_type": "code",
   "execution_count": null,
   "metadata": {},
   "outputs": [],
   "source": []
  },
  {
   "cell_type": "markdown",
   "metadata": {},
   "source": [
    "### Seed the poems 1st word of syllable length from pattern"
   ]
  },
  {
   "cell_type": "code",
   "execution_count": 51,
   "metadata": {},
   "outputs": [
    {
     "name": "stdout",
     "output_type": "stream",
     "text": [
      "Slots\n"
     ]
    }
   ],
   "source": [
    "chain=markov_chain(text)\n",
    "\n",
    "# Capitalize the first word\n",
    "word1 = random.choice(list(chain.keys()))\n",
    "# https://www.programiz.com/python-programming/methods/string/capitalize\n",
    "sentence = word1.capitalize()\n",
    "\n",
    "\n",
    "print(sentence)"
   ]
  },
  {
   "cell_type": "markdown",
   "metadata": {},
   "source": [
    "### Use chain to pick next word with correct number of syllables"
   ]
  },
  {
   "cell_type": "code",
   "execution_count": null,
   "metadata": {},
   "outputs": [],
   "source": []
  },
  {
   "cell_type": "code",
   "execution_count": null,
   "metadata": {},
   "outputs": [],
   "source": []
  },
  {
   "cell_type": "markdown",
   "metadata": {},
   "source": [
    "### Functions used to create pickled dictionaries"
   ]
  },
  {
   "cell_type": "code",
   "execution_count": null,
   "metadata": {},
   "outputs": [],
   "source": [
    "# # Make pos patterns from haiku\n",
    "# pos_patterns =  defaultdict(list)\n",
    "# pos_patterns_markov_data = []\n",
    "# haiku_pat = []\n",
    "# for haiku in haiku_list:\n",
    "#     for line in haiku:\n",
    "#         l=\"\"\n",
    "#         line = line.strip()\n",
    "#         for word in line.split():\n",
    "#             word = clean_word(word)\n",
    "#             try:\n",
    "#                 l += pos_tag([word])[0][1]+\" \"\n",
    "#             except:\n",
    "#                 #I discovered that word is \"\" sometimes, which raises an error\n",
    "#                 #print(\"error when building l\", word)\n",
    "#                 pass\n",
    "#         haiku_pat.append(l)\n",
    "#         if l in pos_patterns:\n",
    "#             pos_patterns[l] += 1\n",
    "#         else:\n",
    "#             pos_patterns[l] = 1\n",
    "#     pos_patterns_markov_data.append(l)"
   ]
  },
  {
   "cell_type": "code",
   "execution_count": null,
   "metadata": {},
   "outputs": [],
   "source": [
    "# # Make pos_dict from spamku\n",
    "#\n",
    "# import string\n",
    "# import sys\n",
    "# c=0\n",
    "# for word in text.split(' '):\n",
    "#     c+=1\n",
    "#     word = word.translate(str.maketrans('', '', string.punctuation))\n",
    "#     word = word.lower()   \n",
    "#     if c % 5000 == 0:\n",
    "#         print(c, word)\n",
    "#     try:\n",
    "#         tok = pos_tag([word])\n",
    "#     except:\n",
    "#         pass\n",
    "#         #I discovered that word is \"\" often which raises an error\n",
    "# #         print(\"Unexpected error when using pos_tag:\", sys.exc_info()[0])\n",
    "# #         print(\"Word: \", word)\n",
    "#     try:\n",
    "#         pos_dict[tok[0][1]].append(tok[0][0])\n",
    "#     except:\n",
    "#         # Haven't seen any of these\n",
    "#         print(\"Unexpected error when adding to dict:\", sys.exc_info()[0])\n",
    "#         print(tok)\n",
    "# print('***************  Done  ***************')"
   ]
  },
  {
   "cell_type": "code",
   "execution_count": null,
   "metadata": {},
   "outputs": [],
   "source": [
    "# pickle.dump(pos_dict, open(\"pos_dict.p\", \"wb\"))\n",
    "# pickle.dump(pos_patterns, open(\"pos_patterns.p\", \"wb\"))"
   ]
  }
 ],
 "metadata": {
  "kernelspec": {
   "display_name": "Python 3",
   "language": "python",
   "name": "python3"
  },
  "language_info": {
   "codemirror_mode": {
    "name": "ipython",
    "version": 3
   },
   "file_extension": ".py",
   "mimetype": "text/x-python",
   "name": "python",
   "nbconvert_exporter": "python",
   "pygments_lexer": "ipython3",
   "version": "3.6.10"
  }
 },
 "nbformat": 4,
 "nbformat_minor": 4
}
