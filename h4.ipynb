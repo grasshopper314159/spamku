{
 "cells": [
  {
   "cell_type": "code",
   "execution_count": 27,
   "metadata": {},
   "outputs": [
    {
     "name": "stderr",
     "output_type": "stream",
     "text": [
      "[nltk_data] Downloading package punkt to\n",
      "[nltk_data]     C:\\Users\\njayj\\AppData\\Roaming\\nltk_data...\n",
      "[nltk_data]   Package punkt is already up-to-date!\n",
      "[nltk_data] Downloading package averaged_perceptron_tagger to\n",
      "[nltk_data]     C:\\Users\\njayj\\AppData\\Roaming\\nltk_data...\n",
      "[nltk_data]   Package averaged_perceptron_tagger is already up-to-\n",
      "[nltk_data]       date!\n",
      "[nltk_data] Downloading package cmudict to\n",
      "[nltk_data]     C:\\Users\\njayj\\AppData\\Roaming\\nltk_data...\n",
      "[nltk_data]   Package cmudict is already up-to-date!\n"
     ]
    }
   ],
   "source": [
    "\n",
    "import nltk;\n",
    "nltk.download('punkt')\n",
    "nltk.download('averaged_perceptron_tagger')\n",
    "nltk.download('cmudict')\n",
    "from nltk.corpus import cmudict\n",
    "import string\n",
    "import os\n",
    "import pickle\n",
    "from collections import defaultdict"
   ]
  },
  {
   "cell_type": "code",
   "execution_count": 28,
   "metadata": {},
   "outputs": [],
   "source": [
    "c=0\n",
    "l=[]\n",
    "haiku_list=[]\n",
    "pos_dict=defaultdict(list)\n",
    "pro = cmudict.dict()\n",
    "def get_word(POS, syllables, preceding_word):\n",
    "    pass\n",
    "\n",
    "def get_syllable_count(word):\n",
    "    #print(pro[word])\n",
    "    syl=[ x for x in pro[word][0] if x[-1].isdigit()]\n",
    "    return len(syl)\n",
    "\n",
    "def clean_word(word):\n",
    "    word= word.translate(str.maketrans('', '', string.punctuation))\n",
    "    word=word.lower()\n",
    "    return word\n",
    "\n",
    "def markov_chain(text):\n",
    "    '''The input is a string of text and the output will be a dictionary with each word as\n",
    "       a key and each value as the list of words that come after the key in the text.'''\n",
    "    \n",
    "    # Tokenize the text by word, though including punctuation\n",
    "    words = text.split(' ')\n",
    "    \n",
    "    # Initialize a default dictionary to hold all of the words and next words\n",
    "    m_dict = defaultdict(list)\n",
    "    \n",
    "    # Create a zipped list of all of the word pairs and put them in word: list of next words format\n",
    "    for current_word, next_word in zip(words[0:-1], words[1:]):\n",
    "        current_word = clean_word(current_word)\n",
    "        next_word = clean_word(next_word)\n",
    "        m_dict[current_word].append(next_word)\n",
    "\n",
    "    # Convert the default dict back into a dictionary\n",
    "    m_dict = dict(m_dict)\n",
    "    return m_dict\n",
    "\n",
    "# def process_one_list(a_list):\n",
    "#     t=\"\"\n",
    "#     for lines in a_list:\n",
    "#         t+=line.strip()+' '\n",
    "#     return t\n",
    "\n",
    "# def process_list_of_lists(lists):\n",
    "#     t=\"\"\n",
    "#     for lines in lists:\n",
    "#         t = process_one_list(lines)\n",
    "#     return t\n",
    "\n",
    "\n",
    "# This file contains 8893 spam-ku\n",
    "filename=\"corpus/spamku.txt\"\n",
    "file = open(filename, mode = 'r')\n",
    "#text=file.read()\n",
    "text = \"\"\n",
    "\n",
    "for line in file:\n",
    "    text += line.strip()+' '\n",
    "file.close()\n",
    "mc=markov_chain(text)\n",
    "\n",
    "import random\n",
    "\n",
    "def generate_sentence(chain, count=15):\n",
    "    '''Input a dictionary in the format of key = current word, value = list of next words\n",
    "       along with the number of words you would like to see in your generated sentence.'''\n",
    "\n",
    "    # Capitalize the first word\n",
    "    word1 = random.choice(list(chain.keys()))\n",
    "    sentence = word1.capitalize()\n",
    "\n",
    "    # Generate the second word from the value list. Set the new word as the first word. Repeat.\n",
    "    for i in range(count-1):\n",
    "        word2 = random.choice(chain[word1])\n",
    "        word1 = word2\n",
    "        sentence += ' ' + word2\n",
    "\n",
    "    # End it with a period\n",
    "    sentence += '.'\n",
    "    return(sentence)\n"
   ]
  },
  {
   "cell_type": "code",
   "execution_count": 29,
   "metadata": {},
   "outputs": [
    {
     "data": {
      "text/plain": [
       "'Drunk girls check flags hormel delivery man i like a pet dog no spray spamthe.'"
      ]
     },
     "execution_count": 29,
     "metadata": {},
     "output_type": "execute_result"
    }
   ],
   "source": [
    "generate_sentence(mc, count=15)"
   ]
  },
  {
   "cell_type": "code",
   "execution_count": 36,
   "metadata": {},
   "outputs": [
    {
     "name": "stdout",
     "output_type": "stream",
     "text": [
      "[['S', 'P', 'AE1', 'M']]\n"
     ]
    },
    {
     "data": {
      "text/plain": [
       "1"
      ]
     },
     "execution_count": 36,
     "metadata": {},
     "output_type": "execute_result"
    }
   ],
   "source": [
    "get_syllable_count('spam')\n",
    "\n"
   ]
  },
  {
   "cell_type": "code",
   "execution_count": 31,
   "metadata": {},
   "outputs": [],
   "source": [
    "#Not really using haiku list now\n",
    "#it makes a list of haiku, so each item in the list is a complete three line haiku\n",
    "haiku_list=[]\n",
    "filename=\"corpus/spamku.txt\"\n",
    "file = open(filename, mode = 'r')\n",
    "# make a list of spamku\n",
    "for line in file:\n",
    "    c+=1\n",
    "    l.append(line)\n",
    "    if c==3:\n",
    "        haiku_list.append(l)\n",
    "        c=0\n",
    "        l=[]\n",
    "file.close()"
   ]
  },
  {
   "cell_type": "code",
   "execution_count": 6,
   "metadata": {
    "scrolled": true
   },
   "outputs": [
    {
     "name": "stdout",
     "output_type": "stream",
     "text": [
      "[('Flying', 'VBG'), ('through', 'IN'), ('the', 'DT'), ('bedroom', 'NN'), ('door', 'NN')]\n"
     ]
    }
   ],
   "source": [
    "# from nltk import pos_tag\n",
    "# tokens_tag = haiku_list[0][1].split()\n",
    "# tokens_tag2 = pos_tag(tokens_tag)\n",
    "# print(tokens_tag2)\n",
    "# for tup in tokens_tag2:\n",
    "#     pos_dict[tup[1]].append(tup[0])\n"
   ]
  },
  {
   "cell_type": "code",
   "execution_count": 35,
   "metadata": {},
   "outputs": [
    {
     "data": {
      "text/plain": [
       "[('spam', 'NN')]"
      ]
     },
     "execution_count": 35,
     "metadata": {},
     "output_type": "execute_result"
    }
   ],
   "source": [
    "pos_tag(['spam'])"
   ]
  },
  {
   "cell_type": "code",
   "execution_count": 52,
   "metadata": {},
   "outputs": [
    {
     "data": {
      "text/plain": [
       "'Flying through the bedroom door'"
      ]
     },
     "execution_count": 52,
     "metadata": {},
     "output_type": "execute_result"
    }
   ],
   "source": [
    "haiku_list[0][1].strip()"
   ]
  },
  {
   "cell_type": "code",
   "execution_count": 44,
   "metadata": {},
   "outputs": [
    {
     "name": "stdout",
     "output_type": "stream",
     "text": [
      "1000 in\n",
      "2000 mail\n",
      "3000 symbol\n",
      "4000 atom\n",
      "5000 ive\n",
      "6000 can\n",
      "7000 freakin\n",
      "8000 god\n",
      "9000 long\n",
      "10000 to\n",
      "11000 have\n",
      "12000 and\n",
      "13000 knees\n",
      "14000 weight\n",
      "15000 bill\n",
      "16000 spam\n",
      "17000 spam\n",
      "18000 blue\n",
      "19000 his\n",
      "20000 western\n",
      "21000 spam\n",
      "22000 of\n",
      "23000 in\n",
      "24000 unavailable\n",
      "25000 below\n",
      "26000 mama\n",
      "27000 wafers\n",
      "28000 the\n",
      "29000 pinkie\n",
      "30000 deadly\n",
      "31000 than\n",
      "32000 compute\n",
      "33000 love\n",
      "34000 the\n",
      "35000 ate\n",
      "36000 still\n",
      "37000 use\n",
      "38000 pink\n",
      "39000 pants\n",
      "40000 godzilla\n",
      "41000 real\n",
      "42000 bits\n",
      "43000 i\n",
      "44000 west\n",
      "45000 was\n",
      "46000 swine\n",
      "47000 into\n",
      "48000 dont\n",
      "49000 stamps\n",
      "50000 their\n",
      "51000 little\n",
      "52000 the\n",
      "53000 through\n",
      "54000 smoothie\n",
      "55000 the\n",
      "56000 hands\n",
      "57000 cans\n",
      "58000 feel\n",
      "59000 tin\n",
      "60000 rises\n",
      "61000 have\n",
      "62000 know\n",
      "63000 you\n",
      "64000 if\n",
      "65000 love\n",
      "66000 slice\n",
      "67000 you\n",
      "68000 spam\n",
      "69000 glorious\n",
      "70000 were\n",
      "71000 sales\n",
      "72000 she\n",
      "73000 to\n",
      "74000 oval\n",
      "75000 stock\n",
      "76000 the\n",
      "77000 pleasure\n",
      "78000 my\n",
      "79000 and\n",
      "80000 stronger\n",
      "81000 of\n",
      "82000 will\n",
      "83000 dead\n",
      "84000 im\n",
      "85000 pan\n",
      "86000 with\n",
      "87000 spam\n",
      "88000 spam\n",
      "89000 disturbs\n",
      "90000 a\n",
      "91000 one\n",
      "92000 is\n",
      "93000 sinking\n",
      "94000 it\n",
      "95000 an\n",
      "96000 but\n",
      "97000 the\n",
      "98000 its\n",
      "99000 when\n",
      "100000 i\n",
      "101000 powerless\n",
      "102000 crazy\n",
      "103000 and\n",
      "104000 earl\n",
      "105000 ammo\n",
      "106000 conspiracy\n",
      "107000 pickle\n",
      "108000 spam\n",
      "109000 for\n",
      "110000 blend\n",
      "111000 i\n",
      "112000 served\n",
      "113000 and\n",
      "***************  Done  ***************\n"
     ]
    }
   ],
   "source": [
    "import string\n",
    "import sys\n",
    "c=0\n",
    "for word in text.split(' '):\n",
    "    c+=1\n",
    "    word = word.translate(str.maketrans('', '', string.punctuation))\n",
    "    word = word.lower()\n",
    "    \n",
    "    if c % 5000 == 0:\n",
    "        print(c, word)\n",
    "    try:\n",
    "        tok = pos_tag([word])\n",
    "    except:\n",
    "        pass\n",
    "        #I discovered that word is \"\" often which raises an error\n",
    "#         print(\"Unexpected error when using pos_tag:\", sys.exc_info()[0])\n",
    "#         print(\"Word: \", word)\n",
    "    try:\n",
    "        #print(tok)\n",
    "        pos_dict[tok[0][1]].append(tok[0][0])\n",
    "    except:\n",
    "        # Haven't seen any of these\n",
    "        print(\"Unexpected error when adding to dict:\", sys.exc_info()[0])\n",
    "        print(tok)\n",
    "print('***************  Done  ***************')"
   ]
  },
  {
   "cell_type": "code",
   "execution_count": 43,
   "metadata": {},
   "outputs": [
    {
     "data": {
      "text/plain": [
       "dict_keys(['VB', 'DT', 'RB', 'NN', 'VBG', 'IN', 'NNS', 'PRP$', 'CC', 'JJ', 'WP', 'VBZ', 'PRP', 'VBN', 'JJS', 'MD', 'TO', 'VBD', 'VBP', 'WRB', 'CD', 'RBR', 'JJR', 'WDT', 'WP$'])"
      ]
     },
     "execution_count": 43,
     "metadata": {},
     "output_type": "execute_result"
    }
   ],
   "source": [
    "pos_dict2.keys()"
   ]
  },
  {
   "cell_type": "code",
   "execution_count": 41,
   "metadata": {},
   "outputs": [
    {
     "data": {
      "text/plain": [
       "4138"
      ]
     },
     "execution_count": 41,
     "metadata": {},
     "output_type": "execute_result"
    }
   ],
   "source": [
    "len(pos_dict['VBG'])"
   ]
  },
  {
   "cell_type": "code",
   "execution_count": null,
   "metadata": {},
   "outputs": [],
   "source": [
    "# pickle.dump( favorite_color, open( \"save.p\", \"wb\" ) )\n",
    "# favorite_color = pickle.load( open( \"save.p\", \"rb\" ) )\n",
    "#\n",
    "#\n",
    "#\n",
    "#\n",
    "\n",
    "#**************  spamku_gen.py has the sortwords_by_syllable function now"
   ]
  },
  {
   "cell_type": "code",
   "execution_count": 45,
   "metadata": {},
   "outputs": [],
   "source": [
    "pickle.dump(pos_dict, open(\"pos_dict.p\", \"wb\"))\n",
    "pickle.dump(pos_patterns, open(\"pos_patterns.p\", \"wb\"))"
   ]
  },
  {
   "cell_type": "code",
   "execution_count": 140,
   "metadata": {},
   "outputs": [],
   "source": [
    "pos_patterns=loadData(\"pos_patterns.p\")"
   ]
  },
  {
   "cell_type": "code",
   "execution_count": 50,
   "metadata": {},
   "outputs": [],
   "source": [
    "def loadData(filename): \n",
    "    # for reading also binary mode is important \n",
    "    file = open(filename, 'rb')      \n",
    "    data = pickle.load(file) \n",
    "    file.close()\n",
    "    return data\n",
    "pos2=loadData('pos_dict.p')"
   ]
  },
  {
   "cell_type": "code",
   "execution_count": 51,
   "metadata": {},
   "outputs": [
    {
     "data": {
      "text/plain": [
       "dict_keys(['VB', 'DT', 'RB', 'NN', 'VBG', 'IN', 'NNS', 'PRP$', 'CC', 'JJ', 'WP', 'VBZ', 'PRP', 'VBN', 'JJS', 'MD', 'TO', 'VBD', 'VBP', 'WRB', 'CD', 'RBR', 'JJR', 'WDT', 'WP$'])"
      ]
     },
     "execution_count": 51,
     "metadata": {},
     "output_type": "execute_result"
    }
   ],
   "source": [
    "pos2.keys()"
   ]
  },
  {
   "cell_type": "code",
   "execution_count": 148,
   "metadata": {},
   "outputs": [],
   "source": [
    "syllable_lengths = {\n",
    "    'VB': 1,\n",
    "    'DT': 1,\n",
    "    'RB': 2,\n",
    "    'NN': 5,\n",
    "    'VBG': 3,\n",
    "    'IN': 1,\n",
    "    'NNS': 4,\n",
    "    'PRP$': 1,\n",
    "    'CC': 1,\n",
    "    'JJ': 2,\n",
    "    'WP': 1,\n",
    "    'VBZ': 1,\n",
    "    'PRP': 1, \n",
    "    'VBN': 2,\n",
    "    'JJS': 2,\n",
    "    'MD': 1, \n",
    "    'TO': 1,\n",
    "    'VBD': 2,\n",
    "    'VBP': 2,\n",
    "    'WRB': 1,\n",
    "    'CD': 1, #cardinal digit, could be more\n",
    "    'RBR': 2,\n",
    "    'JJR': 2,\n",
    "    'WDT': 1,\n",
    "    'WP$': 1\n",
    "}\n",
    "\n",
    "\n",
    "# Maybe do a probability analysis on these?\n",
    "# CC coordinating conjunction\n",
    "# CD cardinal digit\n",
    "# DT determiner\n",
    "# EX existential there (like: “there is” … think of it like “there exists”)\n",
    "# FW foreign word\n",
    "# IN preposition/subordinating conjunction\n",
    "# JJ adjective ‘big’\n",
    "# JJR adjective, comparative ‘bigger’\n",
    "# JJS adjective, superlative ‘biggest’\n",
    "# LS list marker 1)\n",
    "# MD modal could, will\n",
    "# NN noun, singular ‘desk’\n",
    "# NNS noun plural ‘desks’\n",
    "# NNP proper noun, singular ‘Harrison’\n",
    "# NNPS proper noun, plural ‘Americans’\n",
    "# PDT predeterminer ‘all the kids’\n",
    "# POS possessive ending parent’s\n",
    "# PRP personal pronoun I, he, she\n",
    "# PRP$ possessive pronoun my, his, hers\n",
    "# RB adverb very, silently,\n",
    "# RBR adverb, comparative better\n",
    "# RBS adverb, superlative best\n",
    "# RP particle give up\n",
    "# TO, to go ‘to’ the store.\n",
    "# UH interjection, errrrrrrrm\n",
    "# VB verb, base form take\n",
    "# VBD verb, past tense took\n",
    "# VBG verb, gerund/present participle taking\n",
    "# VBN verb, past participle taken\n",
    "# VBP verb, sing. present, non-3d take\n",
    "# VBZ verb, 3rd person sing. present takes\n",
    "# WDT wh-determiner which\n",
    "# WP wh-pronoun who, what\n",
    "# WP$ possessive wh-pronoun whose\n",
    "# WRB wh-abverb where, when"
   ]
  },
  {
   "cell_type": "code",
   "execution_count": 75,
   "metadata": {},
   "outputs": [
    {
     "name": "stdout",
     "output_type": "stream",
     "text": [
      "error when building l \n",
      "error when building l \n",
      "error when building l \n",
      "error when building l \n",
      "error when building l \n",
      "error when building l \n",
      "error when building l \n",
      "error when building l \n",
      "error when building l \n",
      "error when building l \n",
      "error when building l \n",
      "error when building l \n",
      "error when building l \n",
      "error when building l \n",
      "error when building l \n",
      "error when building l \n",
      "error when building l \n",
      "error when building l \n",
      "error when building l \n",
      "error when building l \n",
      "error when building l \n",
      "error when building l \n",
      "error when building l \n",
      "error when building l \n",
      "error when building l \n",
      "error when building l \n",
      "error when building l \n",
      "error when building l \n",
      "error when building l \n",
      "error when building l \n",
      "error when building l \n",
      "error when building l \n",
      "error when building l \n",
      "error when building l \n",
      "error when building l \n",
      "error when building l \n",
      "error when building l \n",
      "error when building l \n",
      "error when building l \n",
      "error when building l \n",
      "error when building l \n",
      "error when building l \n",
      "error when building l \n",
      "error when building l \n",
      "error when building l \n",
      "error when building l \n",
      "error when building l \n",
      "error when building l \n",
      "error when building l \n",
      "error when building l \n",
      "error when building l \n",
      "error when building l \n",
      "error when building l \n",
      "error when building l \n",
      "error when building l \n",
      "error when building l \n",
      "error when building l \n",
      "error when building l \n",
      "error when building l \n",
      "error when building l \n",
      "error when building l \n",
      "error when building l \n",
      "error when building l \n",
      "error when building l \n",
      "error when building l \n",
      "error when building l \n",
      "error when building l \n",
      "error when building l \n",
      "error when building l \n",
      "error when building l \n",
      "error when building l \n",
      "error when building l \n",
      "error when building l \n",
      "error when building l \n",
      "error when building l \n",
      "error when building l \n",
      "error when building l \n",
      "error when building l \n",
      "error when building l \n",
      "error when building l \n",
      "error when building l \n",
      "error when building l \n",
      "error when building l \n",
      "error when building l \n",
      "error when building l \n",
      "error when building l \n",
      "error when building l \n",
      "error when building l \n",
      "error when building l \n",
      "error when building l \n",
      "error when building l \n",
      "error when building l \n",
      "error when building l \n",
      "error when building l \n",
      "error when building l \n",
      "error when building l \n",
      "error when building l \n",
      "error when building l \n",
      "error when building l \n",
      "error when building l \n",
      "error when building l \n",
      "error when building l \n",
      "error when building l \n",
      "error when building l \n",
      "error when building l \n",
      "error when building l \n",
      "error when building l \n",
      "error when building l \n",
      "error when building l \n",
      "error when building l \n",
      "error when building l \n",
      "error when building l \n",
      "error when building l \n",
      "error when building l \n",
      "error when building l \n"
     ]
    }
   ],
   "source": [
    "# Make pos patterns from haiku\n",
    "pos_patterns =  defaultdict(list)\n",
    "pos_patterns_markov_data = []\n",
    "haiku_pat = []\n",
    "for haiku in haiku_list:\n",
    "    for line in haiku:\n",
    "        l=\"\"\n",
    "        line = line.strip()\n",
    "        for word in line.split():\n",
    "            word = clean_word(word)\n",
    "            try:\n",
    "                l += pos_tag([word])[0][1]+\" \"\n",
    "            except:\n",
    "                #I discovered that word is \"\" sometimes, which raises an error\n",
    "                #print(\"error when building l\", word)\n",
    "                pass\n",
    "        haiku_pat.append(l)\n",
    "        if l in pos_patterns:\n",
    "            pos_patterns[l] += 1\n",
    "        else:\n",
    "            pos_patterns[l] = 1\n",
    "    pos_patterns_markov_data.append(l)\n",
    "    "
   ]
  },
  {
   "cell_type": "code",
   "execution_count": 143,
   "metadata": {},
   "outputs": [
    {
     "name": "stdout",
     "output_type": "stream",
     "text": [
      "0 NN NN NN  686\n",
      "1 NN NN  684\n",
      "2 JJ NN  248\n",
      "3 NN NN NN NN  246\n",
      "4 NN NN NNS  225\n",
      "5 NN NNS  216\n",
      "6 NN IN NN  204\n",
      "7 DT NN NN  184\n",
      "8 NN  170\n",
      "9 NN NN IN NN  168\n",
      "10 NN NNS NN  152\n",
      "11 JJ NN NN  140\n",
      "12 NN IN DT NN  135\n",
      "13 NN NN NN NN NN  118\n",
      "14 NN IN NN NN  109\n",
      "15 NNS NN  100\n",
      "16 DT NN NN NN  96\n",
      "17 IN DT NN NN  89\n",
      "18 NN NNS IN NN  87\n",
      "19 NNS NN NN  87\n",
      "20 DT NN IN NN  85\n",
      "21 IN NN NN  84\n",
      "22 NN DT NN NN  80\n",
      "23 VBG NN  77\n",
      "24 NNS IN NN  73\n",
      "25 NN CC NN  69\n",
      "26 NN DT NN  68\n",
      "27 VBG NN NN  68\n",
      "28 NN JJ NN  67\n",
      "29 NN NN CC NN  64\n",
      "30 DT JJ NN  62\n",
      "31 NN NN IN DT NN  62\n",
      "32 NN NN DT NN  60\n",
      "33 NN VBN NN  59\n",
      "34 JJ NNS  57\n",
      "35 DT NN  57\n",
      "36 NN NNS NN NN  56\n",
      "37 JJ  54\n",
      "38 NN NN NN NNS  53\n",
      "39 VBN NN  51\n",
      "40 NN VBG NN  50\n",
      "41 NN VBZ NN  49\n",
      "42 NN IN PRP$ NN  49\n",
      "43 RB NN  48\n",
      "44 IN NN NN NN  46\n",
      "45 RB NN NN  42\n",
      "46 IN DT NN IN NN  40\n",
      "47 NNS IN DT NN  40\n",
      "48 JJ NN NN NN  39\n",
      "49 NN NN IN NN NN  39\n"
     ]
    }
   ],
   "source": [
    "#  This cell counts out the top 50 patterns\n",
    "temp_pos_patterns = pos_patterns.copy()\n",
    "for i in range(50):\n",
    "    max_ = 0\n",
    "    max_key = \"\"\n",
    "    for k,v in temp_pos_patterns.items():\n",
    "        try:\n",
    "            if v > max_:\n",
    "                max_ = v\n",
    "                max_key = k\n",
    "        except:\n",
    "            print(\"error: \", k, v)\n",
    "            \n",
    "            \n",
    "    print(i, max_key, max_)\n",
    "    del temp_pos_patterns[k]\n",
    "    del temp_pos_patterns[max_key]\n"
   ]
  },
  {
   "cell_type": "code",
   "execution_count": 145,
   "metadata": {},
   "outputs": [
    {
     "name": "stdout",
     "output_type": "stream",
     "text": [
      "26679\n"
     ]
    }
   ],
   "source": [
    "temp_pos_patterns = pos_patterns.copy()\n",
    "pattern_prob = []\n",
    "for k,v in temp_pos_patterns.items():\n",
    "    for i in range(v):\n",
    "        try:\n",
    "            if v != \"\":\n",
    "                pattern_prob.append(k)\n",
    "        except:\n",
    "            print(\"error: \", k, v)\n",
    "print(len(pattern_prob))\n"
   ]
  },
  {
   "cell_type": "code",
   "execution_count": 147,
   "metadata": {},
   "outputs": [
    {
     "data": {
      "text/plain": [
       "'JJ NN NN NN '"
      ]
     },
     "execution_count": 147,
     "metadata": {},
     "output_type": "execute_result"
    }
   ],
   "source": [
    "pattern_prob[1000]"
   ]
  },
  {
   "cell_type": "code",
   "execution_count": null,
   "metadata": {},
   "outputs": [],
   "source": [
    "\n",
    "def get_pat_syl_count(l):\n",
    "    syl_count = 0\n",
    "    for word in l.split():\n",
    "        word = clean_word(word)\n",
    "        syl_count += get_syllable_count\n",
    "    return syl_count\n",
    "\n"
   ]
  }
 ],
 "metadata": {
  "kernelspec": {
   "display_name": "Python 3",
   "language": "python",
   "name": "python3"
  },
  "language_info": {
   "codemirror_mode": {
    "name": "ipython",
    "version": 3
   },
   "file_extension": ".py",
   "mimetype": "text/x-python",
   "name": "python",
   "nbconvert_exporter": "python",
   "pygments_lexer": "ipython3",
   "version": "3.7.6"
  }
 },
 "nbformat": 4,
 "nbformat_minor": 4
}
